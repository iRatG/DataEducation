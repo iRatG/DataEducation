{
 "cells": [
  {
   "cell_type": "code",
   "execution_count": 1,
   "metadata": {},
   "outputs": [],
   "source": [
    "import sys, numpy as np\n",
    "from keras.datasets import mnist\n",
    "(x_train, y_train), (x_test, y_test) = mnist.load_data()\n",
    "\n",
    "images = x_train[0:1000].reshape(1000,28*28) / 255 \n",
    " \n",
    "labels = y_train[0:1000] #итого с чем сверяться.\n",
    "\n",
    "one_hot_labels = np.zeros((len(labels),10)) #зануляем выходные результаты. размерностью 10.\n",
    "for i,l in enumerate(labels):\n",
    "    one_hot_labels[i][l] = 1\n",
    "labels = one_hot_labels        # оцифровываем 3 в 001.., 2 в 010... и т д ???\n",
    "\n",
    "\n",
    "test_images = x_test.reshape(len(x_test),28*28) / 255\n",
    "test_labels = np.zeros((len(y_test),10))\n",
    "for i,l in enumerate(y_test):\n",
    "    test_labels[i][l] = 1"
   ]
  },
  {
   "cell_type": "code",
   "execution_count": null,
   "metadata": {},
   "outputs": [],
   "source": [
    "import numpy as np\n",
    "import sys\n",
    "np.random.seed(1)\n",
    "def relu(x):\n",
    "    return (x>=0) * x\n",
    "    \n",
    "def relu2deriv(output):\n",
    "    return output >= 0\n",
    "    \n",
    "batch_size = 100\n",
    "alpha, iterations = (0.001 , 1000)\n",
    "pixels_per_image, num_labels, hidden_size = (784, 10, 100)\n",
    "\n",
    "#задаем произвольно веса\n",
    "\n",
    "weights_0_1 = 0.2*np.random.random((pixels_per_image, hidden_size)) - 0.1\n",
    "weights_1_2 = 0.2*np.random.random((hidden_size, num_labels)) - 0.1\n",
    "\n",
    "# главный цикл итерации\n",
    "\n",
    "for j in range(iterations):\n",
    "    error, correct_cnt = (0.0 , 0)\n",
    "    for i in range(int(len(images) / batch_size)):\n",
    "        batch_start, batch_end = ((i * batch_size), ((i+1)*batch_size))\n",
    "        \n",
    "        layer_0 = images[batch_start:batch_end]\n",
    "        layer_1 = relu(np.dot(layer_0, weights_0_1))\n",
    "        dropout_mask = np.random.randint(2,size=layer_1.shape)\n",
    "        layer_1 *= dropout_mask * 2\n",
    "        layer_2 = np.dot(layer_1, weights_1_2)\n",
    "        \n",
    "        error += np.sum((labels[batch_start:batch_end] - layer_2) ** 2) \n",
    "        for k in range(batch_size):\n",
    "                correct_cnt += int(np.argmax(layer_2[k:k+1]) == \\\n",
    "                        np.argmax(labels[batch_start+k:batch_start+k+1]))\n",
    "                layer_2_delta = (labels[batch_start:batch_end]-layer_2) \\\n",
    "                                                        /batch_size\n",
    "                layer_1_delta = layer_2_delta.dot(weights_1_2.T)* \\\n",
    "                                                    relu2deriv(layer_1)\n",
    "                layer_1_delta *= dropout_mask\n",
    "                \n",
    "                weights_1_2 += alpha * layer_1.T.dot(layer_2_delta)\n",
    "                weights_0_1 += alpha * layer_0.T.dot(layer_1_delta)\n",
    "                \n",
    "    if (j%10 ==0):\n",
    "            test_error = 0.0\n",
    "            test_correct_cnt = 0\n",
    "                \n",
    "            for i in range(len(test_images)):\n",
    "                layer_0 = test_images[i:i+1]\n",
    "                layer_1 = relu(np.dot(layer_0,weights_0_1))\n",
    "                layer_2 = np.dot(layer_1, weights_1_2)\n",
    "                \n",
    "                test_error += np.sum((test_labels[i:i+1] - layer_2) ** 2)\n",
    "                test_correct_cnt += int(np.argmax(layer_2) == np.argmax(test_labels[i:i+1]))\n",
    "                \n",
    "            sys.stdout.write(\"\\n\" + \\\n",
    "                \"I:\" + str(j) + \\\n",
    "                \" Test-Err:\" + str(test_error/ float(len(test_images)))[0:5] +\\\n",
    "                \" Test-Acc:\" + str(test_correct_cnt / float(len(test_images))) +\\\n",
    "                \" Train-Ecc:\" + str(error / float(len(images)))[0:5] +\\\n",
    "                \" Train-Acc:\" + str(correct_cnt/ float(len(images))))"
   ]
  },
  {
   "cell_type": "code",
   "execution_count": 2,
   "metadata": {},
   "outputs": [
    {
     "name": "stdout",
     "output_type": "stream",
     "text": [
      "\n",
      "I:0 Test-Err:0.815 Test-Acc:0.3832 Train-Ecc:1.284 Train-Acc:0.165\n",
      "I:10 Test-Err:0.568 Test-Acc:0.7173 Train-Ecc:0.591 Train-Acc:0.672"
     ]
    }
   ],
   "source": [
    "import numpy as np\n",
    "import sys\n",
    "np.random.seed(1)\n",
    "def relu(x):\n",
    "    return (x>=0) * x\n",
    "    \n",
    "def relu2deriv(output):\n",
    "    return output >= 0\n",
    "    \n",
    "batch_size = 100\n",
    "alpha, iterations = (0.001 , 20)\n",
    "\n",
    "#Размеры. Входящий слой, выходной слой, промежуточный слой.\n",
    "pixels_per_image, num_labels, hidden_size = (784, 10, 100)\n",
    "\n",
    "#Задаем произвольно веса\n",
    "#Создаем матрицу весов между 0-ым и 1-ым слоем. \n",
    "weights_0_1 = 0.2*np.random.random((pixels_per_image, hidden_size)) - 0.1\n",
    "#Создаем матрицу весов между 1-ым и 2-ым слоем. \n",
    "weights_1_2 = 0.2*np.random.random((hidden_size, num_labels)) - 0.1\n",
    "\n",
    "#Главный цикл итерации\n",
    "\n",
    "for j in range(iterations):\n",
    "    error, correct_cnt = (0.0 , 0)      #Инициализируем ошибки\n",
    "    for i in range(int(len(images) / batch_size)):\n",
    "        batch_start, batch_end = ((i * batch_size), ((i+1)*batch_size))\n",
    "        \n",
    "        layer_0 = images[batch_start:batch_end]\n",
    "        layer_1 = relu(np.dot(layer_0, weights_0_1)) #вектор\n",
    "        dropout_mask = np.random.randint(2,size=layer_1.shape) #выключаем часть слоя 1 через его размерность. \n",
    "        layer_1 *= dropout_mask * 2 #будут активированы не всё в слое только 50%. почему умножают на 2 - выключают половину, \n",
    "                                    #поэтому надо будет суммы увеличить в двое, чтобы следующий слой не чувстоввал подвоха.\n",
    "        layer_2  = np.dot(layer_1, weights_1_2)\n",
    "        \n",
    "        error += np.sum((labels[batch_start:batch_end] - layer_2) ** 2) #считаем ошибку\n",
    "        for k in range(batch_size):\n",
    "            #обратный ход\n",
    "                #определение прогноза с фактом. счетчик.\n",
    "                correct_cnt   += int(np.argmax(layer_2[k:k+1]) == np.argmax(labels[batch_start+k:batch_start+k+1]))\n",
    "                layer_2_delta =  (labels[batch_start:batch_end]-layer_2)  / batch_size\n",
    "                layer_1_delta =  layer_2_delta.dot(weights_1_2.T)*  relu2deriv(layer_1)\n",
    "                #Только для тех, что выключали\n",
    "                layer_1_delta *= dropout_mask\n",
    "                #корректируем веса\n",
    "                weights_1_2 += alpha * layer_1.T.dot(layer_2_delta)\n",
    "                weights_0_1 += alpha * layer_0.T.dot(layer_1_delta)\n",
    "\n",
    "                #на шаге кратный 10 проверяем результат. тестовая выборка.\n",
    "    if (j%10 ==0):\n",
    "            test_error = 0.0\n",
    "            test_correct_cnt = 0\n",
    "                \n",
    "            for i in range(len(test_images)):\n",
    "                layer_0 = test_images[i:i+1]\n",
    "                layer_1 = relu(np.dot(layer_0,weights_0_1))\n",
    "                layer_2 = np.dot(layer_1, weights_1_2)\n",
    "                \n",
    "                test_error += np.sum((test_labels[i:i+1] - layer_2) ** 2)\n",
    "                test_correct_cnt += int(np.argmax(layer_2) == np.argmax(test_labels[i:i+1]))\n",
    "\n",
    "                #выводим статистику по результатам расчета\n",
    "            sys.stdout.write(\"\\n\" + \\\n",
    "                \"I:\" + str(j) + \\\n",
    "                \" Test-Err:\" + str(test_error/ float(len(test_images)))[0:5] +\\\n",
    "                \" Test-Acc:\" + str(test_correct_cnt / float(len(test_images))) +\\\n",
    "                \" Train-Ecc:\" + str(error / float(len(images)))[0:5] +\\\n",
    "                \" Train-Acc:\" + str(correct_cnt/ float(len(images))))"
   ]
  },
  {
   "cell_type": "code",
   "execution_count": null,
   "metadata": {},
   "outputs": [],
   "source": [
    "print('weights_1_2=', weights_1_2)"
   ]
  },
  {
   "cell_type": "code",
   "execution_count": null,
   "metadata": {},
   "outputs": [],
   "source": [
    "print('weights_0_1=', weights_0_1)"
   ]
  },
  {
   "cell_type": "code",
   "execution_count": null,
   "metadata": {},
   "outputs": [],
   "source": [
    "len(weights_0_1)"
   ]
  },
  {
   "cell_type": "code",
   "execution_count": null,
   "metadata": {},
   "outputs": [],
   "source": [
    "len(weights_1_2)"
   ]
  },
  {
   "cell_type": "code",
   "execution_count": null,
   "metadata": {},
   "outputs": [],
   "source": [
    "w_0_1 = 0.6*np.random.random((7, 2)) - 0.1\n",
    "w_0_1"
   ]
  },
  {
   "cell_type": "code",
   "execution_count": null,
   "metadata": {},
   "outputs": [],
   "source": [
    "_layer_1 = np.random.randint(2,size=10)\n",
    "_dropout_mask = np.random.randint(2,size=10)\n",
    "_dropout_mask"
   ]
  },
  {
   "cell_type": "code",
   "execution_count": null,
   "metadata": {},
   "outputs": [],
   "source": [
    "_layer_1\n",
    "_layer_1 *= _dropout_mask * 2\n",
    "_layer_1"
   ]
  },
  {
   "cell_type": "code",
   "execution_count": null,
   "metadata": {},
   "outputs": [],
   "source": [
    "import sys, numpy as np\n",
    "from keras.datasets import mnist\n",
    "(x_train, y_train), (x_test, y_test) = mnist.load_data()\n",
    "\n",
    "images = x_train[0:1000].reshape(1000,28*28) / 255 \n",
    " \n",
    "labels = y_train[0:10] #итого с чем сверяться.\n",
    "\n",
    "labels"
   ]
  },
  {
   "cell_type": "code",
   "execution_count": null,
   "metadata": {},
   "outputs": [],
   "source": [
    "one_hot_labels = np.zeros((len(labels),10)) #зануляем выходные результаты. размерностью 10.\n",
    "one_hot_labels"
   ]
  },
  {
   "cell_type": "code",
   "execution_count": null,
   "metadata": {},
   "outputs": [],
   "source": [
    "for i,l in enumerate(labels):\n",
    "    one_hot_labels[i][l] = 1\n",
    "labels = one_hot_labels\n",
    "labels"
   ]
  },
  {
   "cell_type": "code",
   "execution_count": null,
   "metadata": {},
   "outputs": [],
   "source": []
  }
 ],
 "metadata": {
  "kernelspec": {
   "display_name": "Python 3",
   "language": "python",
   "name": "python3"
  },
  "language_info": {
   "codemirror_mode": {
    "name": "ipython",
    "version": 3
   },
   "file_extension": ".py",
   "mimetype": "text/x-python",
   "name": "python",
   "nbconvert_exporter": "python",
   "pygments_lexer": "ipython3",
   "version": "3.7.6"
  }
 },
 "nbformat": 4,
 "nbformat_minor": 4
}
